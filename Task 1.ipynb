{
 "cells": [
  {
   "cell_type": "markdown",
   "id": "a2d14a0c",
   "metadata": {},
   "source": [
    "# Creating a List."
   ]
  },
  {
   "cell_type": "code",
   "execution_count": 4,
   "id": "e4ae9c80",
   "metadata": {},
   "outputs": [
    {
     "name": "stdout",
     "output_type": "stream",
     "text": [
      "Updated List is : [0, 3, 4, 5, 6, 7]\n"
     ]
    }
   ],
   "source": [
    "\n",
    "list = [1,2,3,4,5,6]\n",
    "\n",
    "#Adding an element in list.\n",
    "list.append(7)\n",
    "\n",
    "#Removing an element in list.\n",
    "list.remove(1)\n",
    "\n",
    "#Modifing the list using index number.\n",
    "list[0]=0\n",
    "\n",
    "print(f\"Updated List is : {list}\")\n"
   ]
  },
  {
   "cell_type": "markdown",
   "id": "277861c6",
   "metadata": {},
   "source": [
    "# Creating a Dictionary."
   ]
  },
  {
   "cell_type": "code",
   "execution_count": 2,
   "id": "6d2d2d3b",
   "metadata": {},
   "outputs": [
    {
     "name": "stdout",
     "output_type": "stream",
     "text": [
      "Updated Dictionary is: {'Name': 'Aman', 'Age': 20, 'City': 'New Delhi'}\n"
     ]
    }
   ],
   "source": [
    "\n",
    "dict = {'Name': 'Aman', 'Age': 20, 'Gender': 'Male'}\n",
    "\n",
    "#Adding Key and Value in Dictionary.\n",
    "dict['City'] ='Delhi'\n",
    "\n",
    "#Removing Element in Dictionary.\n",
    "del dict['Gender']\n",
    "\n",
    "#Modifying Value of Specific Key.\n",
    "dict['City'] = 'New Delhi'\n",
    "\n",
    "print(f\"Updated Dictionary is: {dict}\")\n"
   ]
  },
  {
   "cell_type": "markdown",
   "id": "86106190",
   "metadata": {},
   "source": [
    "# Creating a Set."
   ]
  },
  {
   "cell_type": "code",
   "execution_count": 3,
   "id": "e09cb789",
   "metadata": {},
   "outputs": [
    {
     "name": "stdout",
     "output_type": "stream",
     "text": [
      "Updated Set is : {2, 3, 4, 5, 7, 10}\n"
     ]
    }
   ],
   "source": [
    "\n",
    "set={1,2,3,4,5,6}\n",
    "\n",
    "#Adding an element in Set.\n",
    "set.add(7)\n",
    "\n",
    "#Removing an element in Set.\n",
    "set.remove(6)\n",
    "\n",
    "#Modifing the set\n",
    "set.discard(1)\n",
    "set.add(10)\n",
    "\n",
    "print(f\"Updated Set is : {set}\")\n"
   ]
  },
  {
   "cell_type": "code",
   "execution_count": null,
   "id": "302e4a6a",
   "metadata": {},
   "outputs": [],
   "source": []
  }
 ],
 "metadata": {
  "kernelspec": {
   "display_name": "Python 3 (ipykernel)",
   "language": "python",
   "name": "python3"
  },
  "language_info": {
   "codemirror_mode": {
    "name": "ipython",
    "version": 3
   },
   "file_extension": ".py",
   "mimetype": "text/x-python",
   "name": "python",
   "nbconvert_exporter": "python",
   "pygments_lexer": "ipython3",
   "version": "3.9.13"
  }
 },
 "nbformat": 4,
 "nbformat_minor": 5
}
